{
 "cells": [
  {
   "cell_type": "markdown",
   "metadata": {},
   "source": [
    "# Error Handling"
   ]
  },
  {
   "cell_type": "code",
   "execution_count": 3,
   "metadata": {},
   "outputs": [
    {
     "name": "stdout",
     "output_type": "stream",
     "text": [
      "This is the first line\n"
     ]
    },
    {
     "ename": "TypeError",
     "evalue": "unsupported operand type(s) for +: 'int' and 'str'",
     "output_type": "error",
     "traceback": [
      "\u001b[1;31m---------------------------------------------------------------------------\u001b[0m",
      "\u001b[1;31mTypeError\u001b[0m                                 Traceback (most recent call last)",
      "\u001b[1;32m<ipython-input-3-2281f22c8bfb>\u001b[0m in \u001b[0;36m<module>\u001b[1;34m\u001b[0m\n\u001b[0;32m      3\u001b[0m \u001b[0mb\u001b[0m \u001b[1;33m=\u001b[0m \u001b[1;34m'hello'\u001b[0m\u001b[1;33m\u001b[0m\u001b[1;33m\u001b[0m\u001b[0m\n\u001b[0;32m      4\u001b[0m \u001b[1;33m\u001b[0m\u001b[0m\n\u001b[1;32m----> 5\u001b[1;33m \u001b[0mc\u001b[0m \u001b[1;33m=\u001b[0m \u001b[0ma\u001b[0m\u001b[1;33m+\u001b[0m\u001b[0mb\u001b[0m\u001b[1;33m\u001b[0m\u001b[1;33m\u001b[0m\u001b[0m\n\u001b[0m\u001b[0;32m      6\u001b[0m \u001b[1;33m\u001b[0m\u001b[0m\n\u001b[0;32m      7\u001b[0m \u001b[0mprint\u001b[0m\u001b[1;33m(\u001b[0m\u001b[1;34mf'the value of c is {c}'\u001b[0m\u001b[1;33m)\u001b[0m\u001b[1;33m\u001b[0m\u001b[1;33m\u001b[0m\u001b[0m\n",
      "\u001b[1;31mTypeError\u001b[0m: unsupported operand type(s) for +: 'int' and 'str'"
     ]
    }
   ],
   "source": [
    "print('This is the first line')\n",
    "a = 1 \n",
    "b = 'hello'\n",
    "\n",
    "c = a+b\n",
    "\n",
    "print(f'the value of c is {c}')\n",
    "\n",
    "print('This line not executed cuse of the error')"
   ]
  },
  {
   "cell_type": "code",
   "execution_count": 4,
   "metadata": {},
   "outputs": [
    {
     "ename": "IndentationError",
     "evalue": "expected an indented block (<ipython-input-4-f05c01cdd1b7>, line 4)",
     "output_type": "error",
     "traceback": [
      "\u001b[1;36m  File \u001b[1;32m\"<ipython-input-4-f05c01cdd1b7>\"\u001b[1;36m, line \u001b[1;32m4\u001b[0m\n\u001b[1;33m    except:\u001b[0m\n\u001b[1;37m         ^\u001b[0m\n\u001b[1;31mIndentationError\u001b[0m\u001b[1;31m:\u001b[0m expected an indented block\n"
     ]
    }
   ],
   "source": [
    "try:\n",
    "    #whatever we want to run\n",
    "    \n",
    "except:\n",
    "    #what to do when we encounter an exception"
   ]
  },
  {
   "cell_type": "code",
   "execution_count": 6,
   "metadata": {},
   "outputs": [
    {
     "name": "stdout",
     "output_type": "stream",
     "text": [
      "This is the first line\n",
      "an error occured\n"
     ]
    }
   ],
   "source": [
    "try :\n",
    "    print('This is the first line')\n",
    "    a = 1 \n",
    "    b = 'hello'\n",
    "\n",
    "    c = a+b\n",
    "\n",
    "    print(f'the value of c is {c}')\n",
    "except:\n",
    "    print('an error occured')\n"
   ]
  },
  {
   "cell_type": "code",
   "execution_count": 8,
   "metadata": {},
   "outputs": [
    {
     "name": "stdout",
     "output_type": "stream",
     "text": [
      "about to enter thne try block\n",
      "entered the try block\n",
      "values are assigned\n",
      "value of c is 3\n",
      "out ot the try except block\n"
     ]
    }
   ],
   "source": [
    "print('about to enter thne try block')\n",
    "try:\n",
    "    print('entered the try block')\n",
    "    a = 1\n",
    "    b = 2\n",
    "    print('values are assigned')\n",
    "    c = a+b\n",
    "    print(f'value of c is {c}')\n",
    "except : \n",
    "    print('An error occured')\n",
    "    \n",
    "print('out ot the try except block')"
   ]
  },
  {
   "cell_type": "code",
   "execution_count": 10,
   "metadata": {},
   "outputs": [
    {
     "name": "stdout",
     "output_type": "stream",
     "text": [
      "about to enter thne try block\n",
      "entered the try block\n",
      "values are assigned\n",
      "An error occured\n",
      "out ot the try except block\n"
     ]
    }
   ],
   "source": [
    "print('about to enter thne try block')\n",
    "try:\n",
    "    print('entered the try block')\n",
    "    a = 1\n",
    "    b = '2'\n",
    "    print('values are assigned')\n",
    "    c = a+b\n",
    "    print(f'value of c is {c}')\n",
    "except : \n",
    "    print('An error occured')\n",
    "    \n",
    "print('out ot the try except block')"
   ]
  },
  {
   "cell_type": "code",
   "execution_count": 14,
   "metadata": {},
   "outputs": [
    {
     "name": "stdout",
     "output_type": "stream",
     "text": [
      "about to enter thne try block\n",
      "entered the try block\n",
      "values are assigned\n",
      "unsupported operand type(s) for +: 'int' and 'str'\n",
      "An error occured\n",
      "out ot the try except block\n"
     ]
    }
   ],
   "source": [
    "print('about to enter thne try block')\n",
    "try:\n",
    "    print('entered the try block')\n",
    "    a = 1\n",
    "    b = '2'\n",
    "    print('values are assigned')\n",
    "    c = a+b\n",
    "    print('Hello')\n",
    "    print(f'value of c is {c}')\n",
    "except ImportError as b:\n",
    "    print(b)\n",
    "    print('its an ImportError')\n",
    "except Exception as e :\n",
    "    print(e)\n",
    "    print('An error occured')\n",
    "    \n",
    "print('out ot the try except block')"
   ]
  },
  {
   "cell_type": "code",
   "execution_count": 16,
   "metadata": {},
   "outputs": [
    {
     "name": "stdout",
     "output_type": "stream",
     "text": [
      "about to enter thne try block\n",
      "entered the try block\n",
      "No module named 'paramiko'\n",
      "its an ImportError\n",
      "out ot the try except block\n"
     ]
    }
   ],
   "source": [
    "print('about to enter thne try block')\n",
    "try:\n",
    "    print('entered the try block')\n",
    "    import paramiko \n",
    "    print('Hello')\n",
    "except IndentationError as a:\n",
    "    print(a)\n",
    "    print('its an IndentationError ')\n",
    "except ImportError as b:\n",
    "    print(b)\n",
    "    print('its an ImportError')\n",
    "except Exception as e :\n",
    "    print(e)\n",
    "    print('An error occured')\n",
    "    \n",
    "print('out ot the try except block')"
   ]
  },
  {
   "cell_type": "code",
   "execution_count": 20,
   "metadata": {},
   "outputs": [
    {
     "name": "stdout",
     "output_type": "stream",
     "text": [
      "about to enter thne try block\n",
      "entered the try block\n",
      "unsupported operand type(s) for +: 'int' and 'str'\n",
      "its an TypeError \n",
      "out ot the try except block\n"
     ]
    }
   ],
   "source": [
    "print('about to enter thne try block')\n",
    "try:\n",
    "    print('entered the try block')\n",
    "    a =  1+ 'acv'\n",
    "    print('Hello')\n",
    "except TypeError as a:\n",
    "    print(a)\n",
    "    print('its an TypeError ')\n",
    "except ImportError as b:\n",
    "    print(b)\n",
    "    print('its an ImportError')\n",
    "except Exception as e :\n",
    "    print(e)\n",
    "    print('An error occured')\n",
    "    \n",
    "print('out ot the try except block')"
   ]
  },
  {
   "cell_type": "code",
   "execution_count": 22,
   "metadata": {},
   "outputs": [
    {
     "name": "stdout",
     "output_type": "stream",
     "text": [
      "about to enter thne try block\n",
      "entered the try block\n",
      "An error occured\n",
      "this line will be printed no matter what\n",
      "out ot the try except block\n"
     ]
    }
   ],
   "source": [
    "print('about to enter thne try block')\n",
    "try:\n",
    "    print('entered the try block')\n",
    "    a = 1\n",
    "    b = 2 + 'hello'\n",
    "    print('values are assigned')\n",
    "    #end the conenction\n",
    "except : \n",
    "    print('An error occured')\n",
    "finally:\n",
    "    print('this line will be printed no matter what')\n",
    "    \n",
    "print('out ot the try except block')"
   ]
  },
  {
   "cell_type": "code",
   "execution_count": 23,
   "metadata": {},
   "outputs": [
    {
     "name": "stdout",
     "output_type": "stream",
     "text": [
      "about to enter thne try block\n",
      "entered the try block\n",
      "unsupported operand type(s) for +: 'int' and 'str'\n",
      "An error occured\n",
      "out ot the try except block\n"
     ]
    }
   ],
   "source": [
    "print('about to enter thne try block')\n",
    "try:\n",
    "    print('entered the try block')\n",
    "    a =  1+ 'acv'\n",
    "    print('Hello')\n",
    "except Exception as e :\n",
    "    print(e)\n",
    "    print('An error occured')\n",
    "    \n",
    "print('out ot the try except block')"
   ]
  },
  {
   "cell_type": "code",
   "execution_count": null,
   "metadata": {},
   "outputs": [],
   "source": []
  }
 ],
 "metadata": {
  "kernelspec": {
   "display_name": "Python 3",
   "language": "python",
   "name": "python3"
  },
  "language_info": {
   "codemirror_mode": {
    "name": "ipython",
    "version": 3
   },
   "file_extension": ".py",
   "mimetype": "text/x-python",
   "name": "python",
   "nbconvert_exporter": "python",
   "pygments_lexer": "ipython3",
   "version": "3.7.2"
  }
 },
 "nbformat": 4,
 "nbformat_minor": 2
}
