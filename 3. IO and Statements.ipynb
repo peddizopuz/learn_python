{
 "cells": [
  {
   "cell_type": "markdown",
   "metadata": {},
   "source": [
    "# I/O - input output"
   ]
  },
  {
   "cell_type": "markdown",
   "metadata": {},
   "source": [
    "* `input` function is used to prompt a message to the user and get the output"
   ]
  },
  {
   "cell_type": "code",
   "execution_count": 1,
   "metadata": {},
   "outputs": [
    {
     "name": "stdout",
     "output_type": "stream",
     "text": [
      "what is your name?jack\n"
     ]
    }
   ],
   "source": [
    "a = input(\"what is your name?\")"
   ]
  },
  {
   "cell_type": "code",
   "execution_count": 2,
   "metadata": {},
   "outputs": [
    {
     "data": {
      "text/plain": [
       "'jack'"
      ]
     },
     "execution_count": 2,
     "metadata": {},
     "output_type": "execute_result"
    }
   ],
   "source": [
    "a"
   ]
  },
  {
   "cell_type": "code",
   "execution_count": 3,
   "metadata": {},
   "outputs": [
    {
     "name": "stdout",
     "output_type": "stream",
     "text": [
      "Give me an integer:5\n"
     ]
    }
   ],
   "source": [
    "b = input(\"Give me an integer:\")"
   ]
  },
  {
   "cell_type": "code",
   "execution_count": 9,
   "metadata": {},
   "outputs": [
    {
     "data": {
      "text/plain": [
       "'5'"
      ]
     },
     "execution_count": 9,
     "metadata": {},
     "output_type": "execute_result"
    }
   ],
   "source": [
    "b"
   ]
  },
  {
   "cell_type": "code",
   "execution_count": 10,
   "metadata": {},
   "outputs": [
    {
     "data": {
      "text/plain": [
       "'C:\\\\test_env\\\\Learn Python'"
      ]
     },
     "execution_count": 10,
     "metadata": {},
     "output_type": "execute_result"
    }
   ],
   "source": [
    "import os\n",
    "\n",
    "os.getcwd()"
   ]
  },
  {
   "cell_type": "code",
   "execution_count": 12,
   "metadata": {},
   "outputs": [
    {
     "name": "stdout",
     "output_type": "stream",
     "text": [
      "Hello World!!\n",
      "\n",
      "How are you?\n"
     ]
    }
   ],
   "source": [
    "with open('test.txt','r') as f:\n",
    "    print(f.read())"
   ]
  },
  {
   "cell_type": "markdown",
   "metadata": {},
   "source": [
    "### Character Meaning :\n",
    "* 'r'\topen for reading (default)\n",
    "* 'w'\topen for writing, truncating the file first\n",
    "* 'x'\topen for exclusive creation, failing if the file already exists\n",
    "* 'a'\topen for writing, appending to the end of the file if it exists\n",
    "* 'b'\tbinary mode\n",
    "* 't'\ttext mode (default)\n",
    "* '+'\topen a disk file for updating (reading and writing)"
   ]
  },
  {
   "cell_type": "markdown",
   "metadata": {},
   "source": [
    "# Statements"
   ]
  },
  {
   "cell_type": "markdown",
   "metadata": {},
   "source": [
    "## If, else and elif"
   ]
  },
  {
   "cell_type": "markdown",
   "metadata": {},
   "source": [
    "`if` condition_statement:\n",
    "    \n",
    "    ...\n",
    "    \n",
    "    ...\n",
    "    \n",
    "    ...\n",
    "    "
   ]
  },
  {
   "cell_type": "code",
   "execution_count": 17,
   "metadata": {},
   "outputs": [
    {
     "name": "stdout",
     "output_type": "stream",
     "text": [
      "a is not greater than 2\n"
     ]
    }
   ],
   "source": [
    "a = 1\n",
    "\n",
    "if a > 2 :\n",
    "    print('a is greater than 2')\n",
    "else:\n",
    "    print('a is not greater than 2')"
   ]
  },
  {
   "cell_type": "code",
   "execution_count": 19,
   "metadata": {},
   "outputs": [
    {
     "name": "stdout",
     "output_type": "stream",
     "text": [
      "a is not apple\n"
     ]
    }
   ],
   "source": [
    "a = 'Apple'\n",
    "\n",
    "if a == 'apple':\n",
    "    print(a)\n",
    "    \n",
    "else:\n",
    "    print('a is not apple')"
   ]
  },
  {
   "cell_type": "code",
   "execution_count": 24,
   "metadata": {},
   "outputs": [
    {
     "name": "stdout",
     "output_type": "stream",
     "text": [
      "a is less than 3\n",
      "a is 2 \n"
     ]
    }
   ],
   "source": [
    "a = 2\n",
    "\n",
    "if a < 3:\n",
    "    print('a is less than 3')\n",
    "    if a==2:\n",
    "        print('a is 2 ')\n",
    "elif a>3 and a < 8:\n",
    "    print('a is between 3 and 8')\n",
    "else:\n",
    "    print('a is greater than 8')"
   ]
  },
  {
   "cell_type": "markdown",
   "metadata": {},
   "source": [
    "## For loops"
   ]
  },
  {
   "cell_type": "code",
   "execution_count": 28,
   "metadata": {},
   "outputs": [
    {
     "name": "stdout",
     "output_type": "stream",
     "text": [
      "Hello\n",
      "Hello\n",
      "Hello\n",
      "Hello\n",
      "Hello\n"
     ]
    }
   ],
   "source": [
    "print('Hello')\n",
    "print('Hello')\n",
    "print('Hello')\n",
    "print('Hello')\n",
    "print('Hello')"
   ]
  },
  {
   "cell_type": "code",
   "execution_count": 34,
   "metadata": {},
   "outputs": [],
   "source": [
    "k = [1,2,3,4,5,6,7,8,9,10]"
   ]
  },
  {
   "cell_type": "code",
   "execution_count": 38,
   "metadata": {},
   "outputs": [
    {
     "name": "stdout",
     "output_type": "stream",
     "text": [
      "1 is a odd number\n",
      "2 is a even number\n",
      "3 is a odd number\n",
      "4 is a even number\n",
      "5 is a odd number\n",
      "6 is a even number\n",
      "7 is a odd number\n",
      "8 is a even number\n",
      "9 is a odd number\n",
      "10 is a even number\n"
     ]
    }
   ],
   "source": [
    "for i in k:\n",
    "    if i%2 == 0:\n",
    "        print(f'{i} is a even number')\n",
    "    else:\n",
    "        print(f'{i} is a odd number')"
   ]
  },
  {
   "cell_type": "code",
   "execution_count": 39,
   "metadata": {},
   "outputs": [
    {
     "name": "stdout",
     "output_type": "stream",
     "text": [
      "Hello world\n"
     ]
    }
   ],
   "source": [
    "print('Hello world')"
   ]
  },
  {
   "cell_type": "code",
   "execution_count": 41,
   "metadata": {},
   "outputs": [
    {
     "name": "stdout",
     "output_type": "stream",
     "text": [
      "1\n"
     ]
    }
   ],
   "source": [
    "a =1 \n",
    "print(a)"
   ]
  },
  {
   "cell_type": "code",
   "execution_count": 45,
   "metadata": {},
   "outputs": [
    {
     "name": "stdout",
     "output_type": "stream",
     "text": [
      "Hello Jones\n",
      "Hello Jones How are you?\n",
      "Hello Jones How are you?\n"
     ]
    }
   ],
   "source": [
    "a= 'Jones'\n",
    "\n",
    "print('Hello ' + a)\n",
    "print('Hello '+ a +' How are you?')\n",
    "print(f'Hello {a} How are you?')"
   ]
  },
  {
   "cell_type": "markdown",
   "metadata": {},
   "source": [
    "## While- loop"
   ]
  },
  {
   "cell_type": "markdown",
   "metadata": {},
   "source": [
    "while condition:\n",
    "    ...\n",
    "    ....\n",
    "    ..."
   ]
  },
  {
   "cell_type": "code",
   "execution_count": 46,
   "metadata": {},
   "outputs": [
    {
     "name": "stdout",
     "output_type": "stream",
     "text": [
      "value of a is 0\n",
      "value of a is 1\n",
      "value of a is 2\n",
      "value of a is 3\n",
      "value of a is 4\n"
     ]
    }
   ],
   "source": [
    "a = 0\n",
    "while a<5:\n",
    "    print(f'value of a is {a}')\n",
    "    a +=1 "
   ]
  },
  {
   "cell_type": "markdown",
   "metadata": {},
   "source": [
    "break,continue, pass\n"
   ]
  },
  {
   "cell_type": "code",
   "execution_count": 49,
   "metadata": {},
   "outputs": [
    {
     "name": "stdout",
     "output_type": "stream",
     "text": [
      "value of a is 0\n",
      "value of a is 1\n",
      "value of a is 2\n",
      "value of a is 3\n",
      "value of a is 4\n",
      "a= 5 while is breaking now\n",
      "End of While loop\n"
     ]
    }
   ],
   "source": [
    "a= 0\n",
    "while a<10:\n",
    "    print(f'value of a is {a}')\n",
    "    a= a+1\n",
    "    if a == 5:\n",
    "        print('a= 5 while is breaking now')\n",
    "        break\n",
    "print('End of While loop')"
   ]
  },
  {
   "cell_type": "code",
   "execution_count": 53,
   "metadata": {},
   "outputs": [
    {
     "name": "stdout",
     "output_type": "stream",
     "text": [
      "value of a is 0\n",
      "this statement will executed for 1\n",
      "value of a is 1\n",
      "this statement will executed for 2\n",
      "value of a is 2\n",
      "this statement will executed for 3\n",
      "value of a is 3\n",
      "this statement will executed for 4\n",
      "value of a is 4\n",
      "a= 5 while is breaking now\n",
      "value of a is 5\n",
      "this statement will executed for 6\n",
      "value of a is 6\n",
      "this statement will executed for 7\n",
      "value of a is 7\n",
      "this statement will executed for 8\n",
      "value of a is 8\n",
      "this statement will executed for 9\n",
      "value of a is 9\n",
      "this statement will executed for 10\n",
      "End of While loop\n"
     ]
    }
   ],
   "source": [
    "a= 0\n",
    "while a<10:\n",
    "    print(f'value of a is {a}')\n",
    "    a= a+1\n",
    "    if a == 5:\n",
    "        print('a= 5 while is breaking now')\n",
    "        continue\n",
    "    print(f'this statement will executed for {a}')\n",
    "print('End of While loop')"
   ]
  },
  {
   "cell_type": "code",
   "execution_count": 56,
   "metadata": {},
   "outputs": [
    {
     "name": "stdout",
     "output_type": "stream",
     "text": [
      "Hello\n"
     ]
    }
   ],
   "source": [
    "a = 2\n",
    "if a>1:\n",
    "    #nothing\n",
    "    pass\n",
    "print('Hello')"
   ]
  },
  {
   "cell_type": "code",
   "execution_count": 60,
   "metadata": {},
   "outputs": [
    {
     "data": {
      "text/plain": [
       "[0, 1, 2, 3, 4, 5, 6, 7, 8, 9]"
      ]
     },
     "execution_count": 60,
     "metadata": {},
     "output_type": "execute_result"
    }
   ],
   "source": [
    "list(range(10))"
   ]
  }
 ],
 "metadata": {
  "kernelspec": {
   "display_name": "Python 3",
   "language": "python",
   "name": "python3"
  },
  "language_info": {
   "codemirror_mode": {
    "name": "ipython",
    "version": 3
   },
   "file_extension": ".py",
   "mimetype": "text/x-python",
   "name": "python",
   "nbconvert_exporter": "python",
   "pygments_lexer": "ipython3",
   "version": "3.7.2"
  }
 },
 "nbformat": 4,
 "nbformat_minor": 2
}
